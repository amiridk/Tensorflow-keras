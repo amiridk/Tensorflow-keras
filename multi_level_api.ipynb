{
  "nbformat": 4,
  "nbformat_minor": 0,
  "metadata": {
    "colab": {
      "provenance": [],
      "gpuType": "T4"
    },
    "kernelspec": {
      "name": "python3",
      "display_name": "Python 3"
    },
    "language_info": {
      "name": "python"
    },
    "accelerator": "GPU"
  },
  "cells": [
    {
      "cell_type": "code",
      "execution_count": null,
      "metadata": {
        "id": "q5RAOd4abkSO"
      },
      "outputs": [],
      "source": [
        "import numpy as np\n",
        "import tensorflow as tf\n",
        "from tensorflow import keras\n",
        "from tensorflow.keras import layers"
      ]
    },
    {
      "cell_type": "code",
      "source": [
        "num_class = 10\n",
        "inpt_shape = (28,28,1)\n",
        "(x_train , y_train) ,(x_test , y_test) = keras.datasets.mnist.load_data()"
      ],
      "metadata": {
        "id": "ILEdB-apbxyw"
      },
      "execution_count": null,
      "outputs": []
    },
    {
      "cell_type": "code",
      "source": [
        "x_train , x_test = x_train.astype('float32')/255 , x_test.astype('float32')/255\n",
        "\n",
        "x_train ,x_test = np.expand_dims(x_train,-1) , np.expand_dims(x_test, -1)\n",
        "\n",
        "x_train.shape"
      ],
      "metadata": {
        "colab": {
          "base_uri": "https://localhost:8080/"
        },
        "id": "9-RaAaydcHpP",
        "outputId": "3a84303e-ac1c-47dc-b8aa-946b15f51104"
      },
      "execution_count": null,
      "outputs": [
        {
          "output_type": "execute_result",
          "data": {
            "text/plain": [
              "(60000, 28, 28, 1)"
            ]
          },
          "metadata": {},
          "execution_count": 12
        }
      ]
    },
    {
      "cell_type": "code",
      "source": [
        "y_train , y_test= keras.utils.to_categorical(y_train , num_class) , keras.utils.to_categorical(y_test , num_class)\n",
        "y_train[1]"
      ],
      "metadata": {
        "colab": {
          "base_uri": "https://localhost:8080/"
        },
        "id": "XGkaSt7tc52o",
        "outputId": "34116e88-5e1d-452d-c9ec-a1bf151afcd7"
      },
      "execution_count": null,
      "outputs": [
        {
          "output_type": "execute_result",
          "data": {
            "text/plain": [
              "array([1., 0., 0., 0., 0., 0., 0., 0., 0., 0.])"
            ]
          },
          "metadata": {},
          "execution_count": 13
        }
      ]
    },
    {
      "cell_type": "code",
      "source": [
        "import matplotlib.pyplot as plt\n",
        "\n",
        "plt.figure(figsize =(10,10))\n",
        "for i in range(9):\n",
        "  ax=plt.subplot(3,3,i+1)\n",
        "  plt.imshow(x_train[i,:,:,0] ,cmap='gray')\n",
        "  plt.title(int(np.argmax(y_train[i])))\n",
        "  plt.axis('off')"
      ],
      "metadata": {
        "colab": {
          "base_uri": "https://localhost:8080/",
          "height": 829
        },
        "id": "KRAhjzqldHwv",
        "outputId": "e6ca2eb1-0cd2-4f85-d40b-e5eb2d15f81b"
      },
      "execution_count": null,
      "outputs": [
        {
          "output_type": "display_data",
          "data": {
            "text/plain": [
              "<Figure size 1000x1000 with 9 Axes>"
            ],
            "image/png": "[encoded data removed]"
          },
          "metadata": {}
        }
      ]
    },
    {
      "cell_type": "code",
      "source": [
        "\n",
        "model = keras.Sequential(\n",
        "    [\n",
        "        keras.Input(shape=inpt_shape),\n",
        "        layers.Conv2D(32,kernel_size=(3,3),activation='relu'),\n",
        "        layers.MaxPool2D(pool_size =(2,2)),\n",
        "        layers.Conv2D(64,kernel_size=(3,3),activation='relu'),\n",
        "        layers.MaxPool2D(pool_size =(2,2)),\n",
        "        layers.Flatten(),\n",
        "        layers.Dropout(0.5),\n",
        "        layers.Dense(num_class,activation='softmax')\n",
        "    ]\n",
        ")"
      ],
      "metadata": {
        "id": "IFQTEKN0d-Gp"
      },
      "execution_count": null,
      "outputs": []
    },
    {
      "cell_type": "code",
      "source": [
        "model.summary()"
      ],
      "metadata": {
        "colab": {
          "base_uri": "https://localhost:8080/",
          "height": 353
        },
        "id": "jxfOiDfNew24",
        "outputId": "749c1cde-4739-4ace-bd2a-71bfa310f1d3"
      },
      "execution_count": null,
      "outputs": [
        {
          "output_type": "display_data",
          "data": {
            "text/plain": [
              "\u001b[1mModel: \"sequential\"\u001b[0m\n"
            ],
            "text/html": [
              "<pre style=\"white-space:pre;overflow-x:auto;line-height:normal;font-family:Menlo,'DejaVu Sans Mono',consolas,'Courier New',monospace\"><span style=\"font-weight: bold\">Model: \"sequential\"</span>\n",
              "</pre>\n"
            ]
          },
          "metadata": {}
        },
        {
          "output_type": "display_data",
          "data": {
            "text/plain": [
              "┏━━━━━━━━━━━━━━━━━━━━━━━━━━━━━━━━━┳━━━━━━━━━━━━━━━━━━━━━━━━┳━━━━━━━━━━━━━━━┓\n",
              "┃\u001b[1m \u001b[0m\u001b[1mLayer (type)                   \u001b[0m\u001b[1m \u001b[0m┃\u001b[1m \u001b[0m\u001b[1mOutput Shape          \u001b[0m\u001b[1m \u001b[0m┃\u001b[1m \u001b[0m\u001b[1m      Param #\u001b[0m\u001b[1m \u001b[0m┃\n",
              "┡━━━━━━━━━━━━━━━━━━━━━━━━━━━━━━━━━╇━━━━━━━━━━━━━━━━━━━━━━━━╇━━━━━━━━━━━━━━━┩\n",
              "│ conv2d (\u001b[38;5;33mConv2D\u001b[0m)                 │ (\u001b[38;5;45mNone\u001b[0m, \u001b[38;5;34m26\u001b[0m, \u001b[38;5;34m26\u001b[0m, \u001b[38;5;34m32\u001b[0m)     │           \u001b[38;5;34m320\u001b[0m │\n",
              "├─────────────────────────────────┼────────────────────────┼───────────────┤\n",
              "│ max_pooling2d (\u001b[38;5;33mMaxPooling2D\u001b[0m)    │ (\u001b[38;5;45mNone\u001b[0m, \u001b[38;5;34m13\u001b[0m, \u001b[38;5;34m13\u001b[0m, \u001b[38;5;34m32\u001b[0m)     │             \u001b[38;5;34m0\u001b[0m │\n",
              "├─────────────────────────────────┼────────────────────────┼───────────────┤\n",
              "│ conv2d_1 (\u001b[38;5;33mConv2D\u001b[0m)               │ (\u001b[38;5;45mNone\u001b[0m, \u001b[38;5;34m11\u001b[0m, \u001b[38;5;34m11\u001b[0m, \u001b[38;5;34m64\u001b[0m)     │        \u001b[38;5;34m18,496\u001b[0m │\n",
              "├─────────────────────────────────┼────────────────────────┼───────────────┤\n",
              "│ max_pooling2d_1 (\u001b[38;5;33mMaxPooling2D\u001b[0m)  │ (\u001b[38;5;45mNone\u001b[0m, \u001b[38;5;34m5\u001b[0m, \u001b[38;5;34m5\u001b[0m, \u001b[38;5;34m64\u001b[0m)       │             \u001b[38;5;34m0\u001b[0m │\n",
              "├─────────────────────────────────┼────────────────────────┼───────────────┤\n",
              "│ flatten (\u001b[38;5;33mFlatten\u001b[0m)               │ (\u001b[38;5;45mNone\u001b[0m, \u001b[38;5;34m1600\u001b[0m)           │             \u001b[38;5;34m0\u001b[0m │\n",
              "├─────────────────────────────────┼────────────────────────┼───────────────┤\n",
              "│ dropout (\u001b[38;5;33mDropout\u001b[0m)               │ (\u001b[38;5;45mNone\u001b[0m, \u001b[38;5;34m1600\u001b[0m)           │             \u001b[38;5;34m0\u001b[0m │\n",
              "├─────────────────────────────────┼────────────────────────┼───────────────┤\n",
              "│ dense (\u001b[38;5;33mDense\u001b[0m)                   │ (\u001b[38;5;45mNone\u001b[0m, \u001b[38;5;34m10\u001b[0m)             │        \u001b[38;5;34m16,010\u001b[0m │\n",
              "└─────────────────────────────────┴────────────────────────┴───────────────┘\n"
            ],
            "text/html": [
              "<pre style=\"white-space:pre;overflow-x:auto;line-height:normal;font-family:Menlo,'DejaVu Sans Mono',consolas,'Courier New',monospace\">┏━━━━━━━━━━━━━━━━━━━━━━━━━━━━━━━━━┳━━━━━━━━━━━━━━━━━━━━━━━━┳━━━━━━━━━━━━━━━┓\n",
              "┃<span style=\"font-weight: bold\"> Layer (type)                    </span>┃<span style=\"font-weight: bold\"> Output Shape           </span>┃<span style=\"font-weight: bold\">       Param # </span>┃\n",
              "┡━━━━━━━━━━━━━━━━━━━━━━━━━━━━━━━━━╇━━━━━━━━━━━━━━━━━━━━━━━━╇━━━━━━━━━━━━━━━┩\n",
              "│ conv2d (<span style=\"color: #0087ff; text-decoration-color: #0087ff\">Conv2D</span>)                 │ (<span style=\"color: #00d7ff; text-decoration-color: #00d7ff\">None</span>, <span style=\"color: #00af00; text-decoration-color: #00af00\">26</span>, <span style=\"color: #00af00; text-decoration-color: #00af00\">26</span>, <span style=\"color: #00af00; text-decoration-color: #00af00\">32</span>)     │           <span style=\"color: #00af00; text-decoration-color: #00af00\">320</span> │\n",
              "├─────────────────────────────────┼────────────────────────┼───────────────┤\n",
              "│ max_pooling2d (<span style=\"color: #0087ff; text-decoration-color: #0087ff\">MaxPooling2D</span>)    │ (<span style=\"color: #00d7ff; text-decoration-color: #00d7ff\">None</span>, <span style=\"color: #00af00; text-decoration-color: #00af00\">13</span>, <span style=\"color: #00af00; text-decoration-color: #00af00\">13</span>, <span style=\"color: #00af00; text-decoration-color: #00af00\">32</span>)     │             <span style=\"color: #00af00; text-decoration-color: #00af00\">0</span> │\n",
              "├─────────────────────────────────┼────────────────────────┼───────────────┤\n",
              "│ conv2d_1 (<span style=\"color: #0087ff; text-decoration-color: #0087ff\">Conv2D</span>)               │ (<span style=\"color: #00d7ff; text-decoration-color: #00d7ff\">None</span>, <span style=\"color: #00af00; text-decoration-color: #00af00\">11</span>, <span style=\"color: #00af00; text-decoration-color: #00af00\">11</span>, <span style=\"color: #00af00; text-decoration-color: #00af00\">64</span>)     │        <span style=\"color: #00af00; text-decoration-color: #00af00\">18,496</span> │\n",
              "├─────────────────────────────────┼────────────────────────┼───────────────┤\n",
              "│ max_pooling2d_1 (<span style=\"color: #0087ff; text-decoration-color: #0087ff\">MaxPooling2D</span>)  │ (<span style=\"color: #00d7ff; text-decoration-color: #00d7ff\">None</span>, <span style=\"color: #00af00; text-decoration-color: #00af00\">5</span>, <span style=\"color: #00af00; text-decoration-color: #00af00\">5</span>, <span style=\"color: #00af00; text-decoration-color: #00af00\">64</span>)       │             <span style=\"color: #00af00; text-decoration-color: #00af00\">0</span> │\n",
              "├─────────────────────────────────┼────────────────────────┼───────────────┤\n",
              "│ flatten (<span style=\"color: #0087ff; text-decoration-color: #0087ff\">Flatten</span>)               │ (<span style=\"color: #00d7ff; text-decoration-color: #00d7ff\">None</span>, <span style=\"color: #00af00; text-decoration-color: #00af00\">1600</span>)           │             <span style=\"color: #00af00; text-decoration-color: #00af00\">0</span> │\n",
              "├─────────────────────────────────┼────────────────────────┼───────────────┤\n",
              "│ dropout (<span style=\"color: #0087ff; text-decoration-color: #0087ff\">Dropout</span>)               │ (<span style=\"color: #00d7ff; text-decoration-color: #00d7ff\">None</span>, <span style=\"color: #00af00; text-decoration-color: #00af00\">1600</span>)           │             <span style=\"color: #00af00; text-decoration-color: #00af00\">0</span> │\n",
              "├─────────────────────────────────┼────────────────────────┼───────────────┤\n",
              "│ dense (<span style=\"color: #0087ff; text-decoration-color: #0087ff\">Dense</span>)                   │ (<span style=\"color: #00d7ff; text-decoration-color: #00d7ff\">None</span>, <span style=\"color: #00af00; text-decoration-color: #00af00\">10</span>)             │        <span style=\"color: #00af00; text-decoration-color: #00af00\">16,010</span> │\n",
              "└─────────────────────────────────┴────────────────────────┴───────────────┘\n",
              "</pre>\n"
            ]
          },
          "metadata": {}
        },
        {
          "output_type": "display_data",
          "data": {
            "text/plain": [
              "\u001b[1m Total params: \u001b[0m\u001b[38;5;34m34,826\u001b[0m (136.04 KB)\n"
            ],
            "text/html": [
              "<pre style=\"white-space:pre;overflow-x:auto;line-height:normal;font-family:Menlo,'DejaVu Sans Mono',consolas,'Courier New',monospace\"><span style=\"font-weight: bold\"> Total params: </span><span style=\"color: #00af00; text-decoration-color: #00af00\">34,826</span> (136.04 KB)\n",
              "</pre>\n"
            ]
          },
          "metadata": {}
        },
        {
          "output_type": "display_data",
          "data": {
            "text/plain": [
              "\u001b[1m Trainable params: \u001b[0m\u001b[38;5;34m34,826\u001b[0m (136.04 KB)\n"
            ],
            "text/html": [
              "<pre style=\"white-space:pre;overflow-x:auto;line-height:normal;font-family:Menlo,'DejaVu Sans Mono',consolas,'Courier New',monospace\"><span style=\"font-weight: bold\"> Trainable params: </span><span style=\"color: #00af00; text-decoration-color: #00af00\">34,826</span> (136.04 KB)\n",
              "</pre>\n"
            ]
          },
          "metadata": {}
        },
        {
          "output_type": "display_data",
          "data": {
            "text/plain": [
              "\u001b[1m Non-trainable params: \u001b[0m\u001b[38;5;34m0\u001b[0m (0.00 B)\n"
            ],
            "text/html": [
              "<pre style=\"white-space:pre;overflow-x:auto;line-height:normal;font-family:Menlo,'DejaVu Sans Mono',consolas,'Courier New',monospace\"><span style=\"font-weight: bold\"> Non-trainable params: </span><span style=\"color: #00af00; text-decoration-color: #00af00\">0</span> (0.00 B)\n",
              "</pre>\n"
            ]
          },
          "metadata": {}
        }
      ]
    },
    {
      "cell_type": "code",
      "source": [
        "batch_size= 128\n",
        "epochs=35\n",
        "\n",
        "model.compile(loss='categorical_crossentropy' ,optimizer='nadam',metrics=['accuracy'])\n",
        "\n",
        "history = model.fit(x_train,y_train,batch_size=batch_size,epochs=epochs,validation_split=0.2)"
      ],
      "metadata": {
        "colab": {
          "base_uri": "https://localhost:8080/"
        },
        "id": "l7msZQbfe053",
        "outputId": "a6869028-9b21-4f59-b6f6-2ec514268b82"
      },
      "execution_count": null,
      "outputs": [
        {
          "output_type": "stream",
          "name": "stdout",
          "text": [
            "Epoch 1/35\n",
            "\u001b[1m375/375\u001b[0m \u001b[32m━━━━━━━━━━━━━━━━━━━━\u001b[0m\u001b[37m\u001b[0m \u001b[1m8s\u001b[0m 7ms/step - accuracy: 0.7542 - loss: 0.8053 - val_accuracy: 0.9721 - val_loss: 0.0997\n",
            "Epoch 2/35\n",
            "\u001b[1m375/375\u001b[0m \u001b[32m━━━━━━━━━━━━━━━━━━━━\u001b[0m\u001b[37m\u001b[0m \u001b[1m2s\u001b[0m 4ms/step - accuracy: 0.9622 - loss: 0.1246 - val_accuracy: 0.9801 - val_loss: 0.0700\n",
            "Epoch 3/35\n",
            "\u001b[1m375/375\u001b[0m \u001b[32m━━━━━━━━━━━━━━━━━━━━\u001b[0m\u001b[37m\u001b[0m \u001b[1m2s\u001b[0m 4ms/step - accuracy: 0.9703 - loss: 0.0944 - val_accuracy: 0.9827 - val_loss: 0.0609\n",
            "Epoch 4/35\n",
            "\u001b[1m375/375\u001b[0m \u001b[32m━━━━━━━━━━━━━━━━━━━━\u001b[0m\u001b[37m\u001b[0m \u001b[1m2s\u001b[0m 4ms/step - accuracy: 0.9762 - loss: 0.0803 - val_accuracy: 0.9859 - val_loss: 0.0510\n",
            "Epoch 5/35\n",
            "\u001b[1m375/375\u001b[0m \u001b[32m━━━━━━━━━━━━━━━━━━━━\u001b[0m\u001b[37m\u001b[0m \u001b[1m2s\u001b[0m 6ms/step - accuracy: 0.9795 - loss: 0.0656 - val_accuracy: 0.9866 - val_loss: 0.0481\n",
            "Epoch 6/35\n",
            "\u001b[1m375/375\u001b[0m \u001b[32m━━━━━━━━━━━━━━━━━━━━\u001b[0m\u001b[37m\u001b[0m \u001b[1m2s\u001b[0m 4ms/step - accuracy: 0.9813 - loss: 0.0596 - val_accuracy: 0.9863 - val_loss: 0.0457\n",
            "Epoch 7/35\n",
            "\u001b[1m375/375\u001b[0m \u001b[32m━━━━━━━━━━━━━━━━━━━━\u001b[0m\u001b[37m\u001b[0m \u001b[1m2s\u001b[0m 4ms/step - accuracy: 0.9822 - loss: 0.0566 - val_accuracy: 0.9879 - val_loss: 0.0426\n",
            "Epoch 8/35\n",
            "\u001b[1m375/375\u001b[0m \u001b[32m━━━━━━━━━━━━━━━━━━━━\u001b[0m\u001b[37m\u001b[0m \u001b[1m2s\u001b[0m 4ms/step - accuracy: 0.9844 - loss: 0.0494 - val_accuracy: 0.9887 - val_loss: 0.0392\n",
            "Epoch 9/35\n",
            "\u001b[1m375/375\u001b[0m \u001b[32m━━━━━━━━━━━━━━━━━━━━\u001b[0m\u001b[37m\u001b[0m \u001b[1m2s\u001b[0m 4ms/step - accuracy: 0.9838 - loss: 0.0492 - val_accuracy: 0.9888 - val_loss: 0.0372\n",
            "Epoch 10/35\n",
            "\u001b[1m375/375\u001b[0m \u001b[32m━━━━━━━━━━━━━━━━━━━━\u001b[0m\u001b[37m\u001b[0m \u001b[1m2s\u001b[0m 4ms/step - accuracy: 0.9874 - loss: 0.0410 - val_accuracy: 0.9897 - val_loss: 0.0361\n",
            "Epoch 11/35\n",
            "\u001b[1m375/375\u001b[0m \u001b[32m━━━━━━━━━━━━━━━━━━━━\u001b[0m\u001b[37m\u001b[0m \u001b[1m2s\u001b[0m 6ms/step - accuracy: 0.9864 - loss: 0.0412 - val_accuracy: 0.9898 - val_loss: 0.0367\n",
            "Epoch 12/35\n",
            "\u001b[1m375/375\u001b[0m \u001b[32m━━━━━━━━━━━━━━━━━━━━\u001b[0m\u001b[37m\u001b[0m \u001b[1m2s\u001b[0m 5ms/step - accuracy: 0.9875 - loss: 0.0408 - val_accuracy: 0.9887 - val_loss: 0.0362\n",
            "Epoch 13/35\n",
            "\u001b[1m375/375\u001b[0m \u001b[32m━━━━━━━━━━━━━━━━━━━━\u001b[0m\u001b[37m\u001b[0m \u001b[1m2s\u001b[0m 4ms/step - accuracy: 0.9876 - loss: 0.0376 - val_accuracy: 0.9898 - val_loss: 0.0347\n",
            "Epoch 14/35\n",
            "\u001b[1m375/375\u001b[0m \u001b[32m━━━━━━━━━━━━━━━━━━━━\u001b[0m\u001b[37m\u001b[0m \u001b[1m2s\u001b[0m 4ms/step - accuracy: 0.9877 - loss: 0.0386 - val_accuracy: 0.9903 - val_loss: 0.0318\n",
            "Epoch 15/35\n",
            "\u001b[1m375/375\u001b[0m \u001b[32m━━━━━━━━━━━━━━━━━━━━\u001b[0m\u001b[37m\u001b[0m \u001b[1m2s\u001b[0m 4ms/step - accuracy: 0.9890 - loss: 0.0351 - val_accuracy: 0.9899 - val_loss: 0.0332\n",
            "Epoch 16/35\n",
            "\u001b[1m375/375\u001b[0m \u001b[32m━━━━━━━━━━━━━━━━━━━━\u001b[0m\u001b[37m\u001b[0m \u001b[1m2s\u001b[0m 4ms/step - accuracy: 0.9898 - loss: 0.0321 - val_accuracy: 0.9905 - val_loss: 0.0314\n",
            "Epoch 17/35\n",
            "\u001b[1m375/375\u001b[0m \u001b[32m━━━━━━━━━━━━━━━━━━━━\u001b[0m\u001b[37m\u001b[0m \u001b[1m2s\u001b[0m 4ms/step - accuracy: 0.9896 - loss: 0.0300 - val_accuracy: 0.9912 - val_loss: 0.0303\n",
            "Epoch 18/35\n",
            "\u001b[1m375/375\u001b[0m \u001b[32m━━━━━━━━━━━━━━━━━━━━\u001b[0m\u001b[37m\u001b[0m \u001b[1m2s\u001b[0m 5ms/step - accuracy: 0.9910 - loss: 0.0273 - val_accuracy: 0.9913 - val_loss: 0.0309\n",
            "Epoch 19/35\n",
            "\u001b[1m375/375\u001b[0m \u001b[32m━━━━━━━━━━━━━━━━━━━━\u001b[0m\u001b[37m\u001b[0m \u001b[1m2s\u001b[0m 5ms/step - accuracy: 0.9909 - loss: 0.0297 - val_accuracy: 0.9908 - val_loss: 0.0315\n",
            "Epoch 20/35\n",
            "\u001b[1m375/375\u001b[0m \u001b[32m━━━━━━━━━━━━━━━━━━━━\u001b[0m\u001b[37m\u001b[0m \u001b[1m2s\u001b[0m 4ms/step - accuracy: 0.9905 - loss: 0.0278 - val_accuracy: 0.9906 - val_loss: 0.0306\n",
            "Epoch 21/35\n",
            "\u001b[1m375/375\u001b[0m \u001b[32m━━━━━━━━━━━━━━━━━━━━\u001b[0m\u001b[37m\u001b[0m \u001b[1m2s\u001b[0m 4ms/step - accuracy: 0.9909 - loss: 0.0282 - val_accuracy: 0.9911 - val_loss: 0.0301\n",
            "Epoch 22/35\n",
            "\u001b[1m375/375\u001b[0m \u001b[32m━━━━━━━━━━━━━━━━━━━━\u001b[0m\u001b[37m\u001b[0m \u001b[1m2s\u001b[0m 5ms/step - accuracy: 0.9918 - loss: 0.0241 - val_accuracy: 0.9915 - val_loss: 0.0294\n",
            "Epoch 23/35\n",
            "\u001b[1m375/375\u001b[0m \u001b[32m━━━━━━━━━━━━━━━━━━━━\u001b[0m\u001b[37m\u001b[0m \u001b[1m2s\u001b[0m 4ms/step - accuracy: 0.9922 - loss: 0.0248 - val_accuracy: 0.9916 - val_loss: 0.0292\n",
            "Epoch 24/35\n",
            "\u001b[1m375/375\u001b[0m \u001b[32m━━━━━━━━━━━━━━━━━━━━\u001b[0m\u001b[37m\u001b[0m \u001b[1m2s\u001b[0m 4ms/step - accuracy: 0.9924 - loss: 0.0253 - val_accuracy: 0.9912 - val_loss: 0.0286\n",
            "Epoch 25/35\n",
            "\u001b[1m375/375\u001b[0m \u001b[32m━━━━━━━━━━━━━━━━━━━━\u001b[0m\u001b[37m\u001b[0m \u001b[1m2s\u001b[0m 5ms/step - accuracy: 0.9918 - loss: 0.0252 - val_accuracy: 0.9910 - val_loss: 0.0309\n",
            "Epoch 26/35\n",
            "\u001b[1m375/375\u001b[0m \u001b[32m━━━━━━━━━━━━━━━━━━━━\u001b[0m\u001b[37m\u001b[0m \u001b[1m2s\u001b[0m 5ms/step - accuracy: 0.9923 - loss: 0.0227 - val_accuracy: 0.9918 - val_loss: 0.0268\n",
            "Epoch 27/35\n",
            "\u001b[1m375/375\u001b[0m \u001b[32m━━━━━━━━━━━━━━━━━━━━\u001b[0m\u001b[37m\u001b[0m \u001b[1m2s\u001b[0m 5ms/step - accuracy: 0.9916 - loss: 0.0235 - val_accuracy: 0.9916 - val_loss: 0.0281\n",
            "Epoch 28/35\n",
            "\u001b[1m375/375\u001b[0m \u001b[32m━━━━━━━━━━━━━━━━━━━━\u001b[0m\u001b[37m\u001b[0m \u001b[1m2s\u001b[0m 4ms/step - accuracy: 0.9924 - loss: 0.0208 - val_accuracy: 0.9917 - val_loss: 0.0282\n",
            "Epoch 29/35\n",
            "\u001b[1m375/375\u001b[0m \u001b[32m━━━━━━━━━━━━━━━━━━━━\u001b[0m\u001b[37m\u001b[0m \u001b[1m2s\u001b[0m 4ms/step - accuracy: 0.9931 - loss: 0.0201 - val_accuracy: 0.9923 - val_loss: 0.0291\n",
            "Epoch 30/35\n",
            "\u001b[1m375/375\u001b[0m \u001b[32m━━━━━━━━━━━━━━━━━━━━\u001b[0m\u001b[37m\u001b[0m \u001b[1m2s\u001b[0m 4ms/step - accuracy: 0.9931 - loss: 0.0196 - val_accuracy: 0.9927 - val_loss: 0.0290\n",
            "Epoch 31/35\n",
            "\u001b[1m375/375\u001b[0m \u001b[32m━━━━━━━━━━━━━━━━━━━━\u001b[0m\u001b[37m\u001b[0m \u001b[1m2s\u001b[0m 4ms/step - accuracy: 0.9918 - loss: 0.0236 - val_accuracy: 0.9925 - val_loss: 0.0273\n",
            "Epoch 32/35\n",
            "\u001b[1m375/375\u001b[0m \u001b[32m━━━━━━━━━━━━━━━━━━━━\u001b[0m\u001b[37m\u001b[0m \u001b[1m2s\u001b[0m 6ms/step - accuracy: 0.9941 - loss: 0.0184 - val_accuracy: 0.9922 - val_loss: 0.0291\n",
            "Epoch 33/35\n",
            "\u001b[1m375/375\u001b[0m \u001b[32m━━━━━━━━━━━━━━━━━━━━\u001b[0m\u001b[37m\u001b[0m \u001b[1m2s\u001b[0m 5ms/step - accuracy: 0.9931 - loss: 0.0202 - val_accuracy: 0.9925 - val_loss: 0.0283\n",
            "Epoch 34/35\n",
            "\u001b[1m375/375\u001b[0m \u001b[32m━━━━━━━━━━━━━━━━━━━━\u001b[0m\u001b[37m\u001b[0m \u001b[1m2s\u001b[0m 4ms/step - accuracy: 0.9930 - loss: 0.0205 - val_accuracy: 0.9919 - val_loss: 0.0303\n",
            "Epoch 35/35\n",
            "\u001b[1m375/375\u001b[0m \u001b[32m━━━━━━━━━━━━━━━━━━━━\u001b[0m\u001b[37m\u001b[0m \u001b[1m2s\u001b[0m 4ms/step - accuracy: 0.9935 - loss: 0.0183 - val_accuracy: 0.9918 - val_loss: 0.0293\n"
          ]
        }
      ]
    },
    {
      "cell_type": "code",
      "source": [
        "plt.figure(figsize=(12, 4))\n",
        "\n",
        "\n",
        "plt.subplot(1, 2, 1)\n",
        "plt.plot(history.history['accuracy'], label='Training Accuracy')\n",
        "plt.plot(history.history['val_accuracy'], label='Validation Accuracy')\n",
        "plt.xlabel('Epoch')\n",
        "plt.ylabel('Accuracy')\n",
        "plt.title('Training and Validation Accuracy')\n",
        "plt.legend()\n",
        "\n",
        "\n",
        "plt.subplot(1, 2, 2)\n",
        "plt.plot(history.history['loss'], label='Training Loss')\n",
        "plt.plot(history.history['val_loss'], label='Validation Loss')\n",
        "plt.xlabel('Epoch')\n",
        "plt.ylabel('Loss')\n",
        "plt.title('Training and Validation Loss')\n",
        "plt.legend()\n",
        "\n",
        "plt.tight_layout()\n",
        "plt.show()"
      ],
      "metadata": {
        "colab": {
          "base_uri": "https://localhost:8080/",
          "height": 407
        },
        "id": "3xGT44QjfwNR",
        "outputId": "52dd1cd1-8896-46c6-930c-f1b64e63012d"
      },
      "execution_count": null,
      "outputs": [
        {
          "output_type": "display_data",
          "data": {
            "text/plain": [
              "<Figure size 1200x400 with 2 Axes>"
            ],
            "image/png": "[encoded data removed]"
          },
          "metadata": {}
        }
      ]
    },
    {
      "cell_type": "code",
      "source": [
        "from tensorflow.keras.optimizers import Adam\n",
        "from tensorflow.keras.losses import CategoricalCrossentropy\n",
        "\n",
        "batch_size = 50\n",
        "\n",
        "optimizer = Adam(learning_rate=1e-3)\n",
        "loss_fn = CategoricalCrossentropy()\n",
        "\n",
        "train_acc_metrics=keras.metrics.CategoricalAccuracy()\n",
        "val_acc_metrics=keras.metrics.CategoricalAccuracy()\n",
        "\n",
        "x_val =x_train[-10000:]\n",
        "y_val =y_train[-10000:]\n",
        "x_train =x_train[:-10000]\n",
        "y_train =y_train[:-10000]\n",
        "\n",
        "train_dataset = tf.data.Dataset.from_tensor_slices((x_train,y_train))\n",
        "train_dataset = train_dataset.shuffle(buffer_size=1024).batch(batch_size)\n",
        "\n",
        "val_dataset = tf.data.Dataset.from_tensor_slices((x_val, y_val))\n",
        "val_dataset = val_dataset.batch(batch_size)"
      ],
      "metadata": {
        "id": "V8JB9K8NgZb4"
      },
      "execution_count": null,
      "outputs": []
    },
    {
      "cell_type": "code",
      "source": [
        "import time\n",
        "\n",
        "epochs=10\n",
        "for epoch in range(epochs):\n",
        "  print(f'\\n start epoch number : {epoch}')\n",
        "  start_time =time.time()\n",
        "\n",
        "  for step , (x_batch_train , y_batch_train) in enumerate(train_dataset):\n",
        "    with tf.GradientTape() as tape:\n",
        "      logits = model(x_batch_train , training = True)\n",
        "      loss_value = loss_fn(y_batch_train , logits)\n",
        "    grads = tape.gradient(loss_value , model.trainable_weights)\n",
        "    optimizer.apply_gradients(zip(grads,model.trainable_weights))\n",
        "    train_acc_metrics.update_state(y_batch_train,logits)\n",
        "\n",
        "    if step %200 ==0:\n",
        "      print(f'trainingloss (one batch) at step{step} is {float(loss_value)}')\n",
        "      print(f'Seen so far for : {(step+1) * batch_size}')\n",
        "\n",
        "  train_acc = train_acc_metrics.result()\n",
        "  print(f'training acc over epoch : {float(train_acc)}')\n",
        "\n",
        "  train_acc_metrics.reset_state()\n",
        "\n",
        "  for x_batch_val , y_batch_val in val_dataset:\n",
        "    val_logits = model(x_batch_val , training = False)\n",
        "    val_acc_metrics.update_state(y_batch_val, val_logits)\n",
        "  val_acc = val_acc_metrics.result()\n",
        "  val_acc_metrics.reset_state()\n",
        "  print(f'validation accuracy over epoch : {float(val_acc)}')\n",
        "  print(f'time taken for epoch {epoch+1} is {time.time() - start_time} sec')"
      ],
      "metadata": {
        "id": "KVmtN5h3h-O4",
        "colab": {
          "base_uri": "https://localhost:8080/"
        },
        "outputId": "3ff6313c-ad2a-47ef-c626-874b3d497a94"
      },
      "execution_count": 30,
      "outputs": [
        {
          "output_type": "stream",
          "name": "stdout",
          "text": [
            "\n",
            " start epoch number : 0\n",
            "trainingloss (one batch) at step0 is 0.011812911368906498\n",
            "Seen so far for : 50\n",
            "trainingloss (one batch) at step200 is 0.00030402131960727274\n",
            "Seen so far for : 10050\n",
            "trainingloss (one batch) at step400 is 0.006864096503704786\n",
            "Seen so far for : 20050\n",
            "trainingloss (one batch) at step600 is 0.005061466712504625\n",
            "Seen so far for : 30050\n",
            "trainingloss (one batch) at step800 is 0.006001666653901339\n",
            "Seen so far for : 40050\n",
            "training acc over epoch : 0.9915800094604492\n",
            "validation accuracy over epoch : 0.9901999831199646\n",
            "time taken for epoch 1 is 65.00034499168396 sec\n",
            "\n",
            " start epoch number : 1\n",
            "trainingloss (one batch) at step0 is 0.00039184794877655804\n",
            "Seen so far for : 50\n",
            "trainingloss (one batch) at step200 is 0.006583564914762974\n",
            "Seen so far for : 10050\n",
            "trainingloss (one batch) at step400 is 0.015719207003712654\n",
            "Seen so far for : 20050\n",
            "trainingloss (one batch) at step600 is 0.040333088487386703\n",
            "Seen so far for : 30050\n",
            "trainingloss (one batch) at step800 is 0.0013479350600391626\n",
            "Seen so far for : 40050\n",
            "training acc over epoch : 0.991320013999939\n",
            "validation accuracy over epoch : 0.9919000267982483\n",
            "time taken for epoch 2 is 58.17328190803528 sec\n",
            "\n",
            " start epoch number : 2\n",
            "trainingloss (one batch) at step0 is 0.0005012417095713317\n",
            "Seen so far for : 50\n",
            "trainingloss (one batch) at step200 is 0.007919799536466599\n",
            "Seen so far for : 10050\n",
            "trainingloss (one batch) at step400 is 0.0002329729322809726\n",
            "Seen so far for : 20050\n",
            "trainingloss (one batch) at step600 is 0.0008088208851404488\n",
            "Seen so far for : 30050\n",
            "trainingloss (one batch) at step800 is 0.0021908143535256386\n",
            "Seen so far for : 40050\n",
            "training acc over epoch : 0.9925199747085571\n",
            "validation accuracy over epoch : 0.9907000064849854\n",
            "time taken for epoch 3 is 58.32134675979614 sec\n",
            "\n",
            " start epoch number : 3\n",
            "trainingloss (one batch) at step0 is 0.051625512540340424\n",
            "Seen so far for : 50\n",
            "trainingloss (one batch) at step200 is 0.02368883602321148\n",
            "Seen so far for : 10050\n",
            "trainingloss (one batch) at step400 is 0.0548224076628685\n",
            "Seen so far for : 20050\n",
            "trainingloss (one batch) at step600 is 0.025789830833673477\n",
            "Seen so far for : 30050\n",
            "trainingloss (one batch) at step800 is 0.017214201390743256\n",
            "Seen so far for : 40050\n",
            "training acc over epoch : 0.9917399883270264\n",
            "validation accuracy over epoch : 0.9914000034332275\n",
            "time taken for epoch 4 is 57.695505142211914 sec\n",
            "\n",
            " start epoch number : 4\n",
            "trainingloss (one batch) at step0 is 0.04191627353429794\n",
            "Seen so far for : 50\n",
            "trainingloss (one batch) at step200 is 0.026714105159044266\n",
            "Seen so far for : 10050\n",
            "trainingloss (one batch) at step400 is 0.026767706498503685\n",
            "Seen so far for : 20050\n",
            "trainingloss (one batch) at step600 is 0.0062635596841573715\n",
            "Seen so far for : 30050\n",
            "trainingloss (one batch) at step800 is 0.1443559229373932\n",
            "Seen so far for : 40050\n",
            "training acc over epoch : 0.9919999837875366\n",
            "validation accuracy over epoch : 0.9923999905586243\n",
            "time taken for epoch 5 is 56.878331899642944 sec\n",
            "\n",
            " start epoch number : 5\n",
            "trainingloss (one batch) at step0 is 0.00028193151229061186\n",
            "Seen so far for : 50\n",
            "trainingloss (one batch) at step200 is 0.023825401440262794\n",
            "Seen so far for : 10050\n",
            "trainingloss (one batch) at step400 is 0.09006860107183456\n",
            "Seen so far for : 20050\n",
            "trainingloss (one batch) at step600 is 0.01492942776530981\n",
            "Seen so far for : 30050\n",
            "trainingloss (one batch) at step800 is 0.015067300759255886\n",
            "Seen so far for : 40050\n",
            "training acc over epoch : 0.9922800064086914\n",
            "validation accuracy over epoch : 0.9915000200271606\n",
            "time taken for epoch 6 is 57.03774070739746 sec\n",
            "\n",
            " start epoch number : 6\n",
            "trainingloss (one batch) at step0 is 0.002862558700144291\n",
            "Seen so far for : 50\n",
            "trainingloss (one batch) at step200 is 0.003331532469019294\n",
            "Seen so far for : 10050\n",
            "trainingloss (one batch) at step400 is 0.002822781214490533\n",
            "Seen so far for : 20050\n",
            "trainingloss (one batch) at step600 is 0.0003366136224940419\n",
            "Seen so far for : 30050\n",
            "trainingloss (one batch) at step800 is 0.09807854890823364\n",
            "Seen so far for : 40050\n",
            "training acc over epoch : 0.9924200177192688\n",
            "validation accuracy over epoch : 0.9914000034332275\n",
            "time taken for epoch 7 is 57.100932121276855 sec\n",
            "\n",
            " start epoch number : 7\n",
            "trainingloss (one batch) at step0 is 0.004969480447471142\n",
            "Seen so far for : 50\n",
            "trainingloss (one batch) at step200 is 0.011933114379644394\n",
            "Seen so far for : 10050\n",
            "trainingloss (one batch) at step400 is 0.02770332247018814\n",
            "Seen so far for : 20050\n",
            "trainingloss (one batch) at step600 is 0.0006932024843990803\n",
            "Seen so far for : 30050\n",
            "trainingloss (one batch) at step800 is 0.00236708065494895\n",
            "Seen so far for : 40050\n",
            "training acc over epoch : 0.9931399822235107\n",
            "validation accuracy over epoch : 0.9912999868392944\n",
            "time taken for epoch 8 is 57.145408630371094 sec\n",
            "\n",
            " start epoch number : 8\n",
            "trainingloss (one batch) at step0 is 0.002920140977948904\n",
            "Seen so far for : 50\n",
            "trainingloss (one batch) at step200 is 0.12611223757266998\n",
            "Seen so far for : 10050\n",
            "trainingloss (one batch) at step400 is 0.022005584090948105\n",
            "Seen so far for : 20050\n",
            "trainingloss (one batch) at step600 is 0.000740276591386646\n",
            "Seen so far for : 30050\n",
            "trainingloss (one batch) at step800 is 0.001127151190303266\n",
            "Seen so far for : 40050\n",
            "training acc over epoch : 0.9930800199508667\n",
            "validation accuracy over epoch : 0.9919000267982483\n",
            "time taken for epoch 9 is 56.3911075592041 sec\n",
            "\n",
            " start epoch number : 9\n",
            "trainingloss (one batch) at step0 is 0.0011874170741066337\n",
            "Seen so far for : 50\n",
            "trainingloss (one batch) at step200 is 0.00027767621213570237\n",
            "Seen so far for : 10050\n",
            "trainingloss (one batch) at step400 is 0.10892793536186218\n",
            "Seen so far for : 20050\n",
            "trainingloss (one batch) at step600 is 0.0009554040152579546\n",
            "Seen so far for : 30050\n",
            "trainingloss (one batch) at step800 is 0.015939932316541672\n",
            "Seen so far for : 40050\n",
            "training acc over epoch : 0.9931399822235107\n",
            "validation accuracy over epoch : 0.9918000102043152\n",
            "time taken for epoch 10 is 57.54848265647888 sec\n"
          ]
        }
      ]
    },
    {
      "cell_type": "code",
      "source": [],
      "metadata": {
        "id": "8a7hGzePloHl"
      },
      "execution_count": null,
      "outputs": []
    }
  ]
}